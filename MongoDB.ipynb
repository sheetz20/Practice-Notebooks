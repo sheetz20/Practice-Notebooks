{
 "cells": [
  {
   "cell_type": "code",
   "execution_count": 2,
   "metadata": {},
   "outputs": [],
   "source": [
    "import pymongo"
   ]
  },
  {
   "cell_type": "code",
   "execution_count": 3,
   "metadata": {},
   "outputs": [
    {
     "data": {
      "text/plain": [
       "<pymongo.results.InsertOneResult at 0xbdddcbea48>"
      ]
     },
     "execution_count": 3,
     "metadata": {},
     "output_type": "execute_result"
    }
   ],
   "source": [
    "client = pymongo.MongoClient(\"mongodb://127.0.0.1:27017\")\n",
    "mydb = client['Students']\n",
    "information = mydb.studentInformation\n",
    "record = {\n",
    "    'firstName':'Chris',\n",
    "    'lastName':'Evans',\n",
    "    'department':'CS',\n",
    "    'age':40,\n",
    "    'qualification':'BE'\n",
    "            }\n",
    "information.insert_one(record)\n"
   ]
  },
  {
   "cell_type": "code",
   "execution_count": 8,
   "metadata": {},
   "outputs": [
    {
     "data": {
      "text/plain": [
       "<pymongo.cursor.Cursor at 0xbdddbb8908>"
      ]
     },
     "execution_count": 8,
     "metadata": {},
     "output_type": "execute_result"
    }
   ],
   "source": [
    "information.find({'firstName':'Chris'})"
   ]
  },
  {
   "cell_type": "code",
   "execution_count": 15,
   "metadata": {
    "collapsed": true
   },
   "outputs": [],
   "source": [
    "records = [\n",
    "    {\n",
    "        'firstName':'Joe',\n",
    "        'lastName':'Tribiani',\n",
    "        'department':'EE',\n",
    "        'age':42,\n",
    "        'qualification':'BE'\n",
    "    },\n",
    "    {\n",
    "        'firstName':'Marshall',\n",
    "        'lastName':'Erikson',\n",
    "        'department':'ME',\n",
    "        'age':42,\n",
    "        'qualification':'BE'\n",
    "    }\n",
    "]"
   ]
  },
  {
   "cell_type": "code",
   "execution_count": 16,
   "metadata": {},
   "outputs": [
    {
     "data": {
      "text/plain": [
       "<pymongo.results.InsertManyResult at 0xbddffcf8c8>"
      ]
     },
     "execution_count": 16,
     "metadata": {},
     "output_type": "execute_result"
    }
   ],
   "source": [
    "information.insert_many(records)"
   ]
  },
  {
   "cell_type": "code",
   "execution_count": 9,
   "metadata": {
    "collapsed": true
   },
   "outputs": [],
   "source": [
    "import pandas as pd"
   ]
  },
  {
   "cell_type": "code",
   "execution_count": 10,
   "metadata": {
    "collapsed": true
   },
   "outputs": [],
   "source": [
    "df = pd.read_json('iris.json')"
   ]
  },
  {
   "cell_type": "code",
   "execution_count": 13,
   "metadata": {},
   "outputs": [
    {
     "data": {
      "text/html": [
       "<div>\n",
       "<table border=\"1\" class=\"dataframe\">\n",
       "  <thead>\n",
       "    <tr style=\"text-align: right;\">\n",
       "      <th></th>\n",
       "      <th>petalLength</th>\n",
       "      <th>petalWidth</th>\n",
       "      <th>sepalLength</th>\n",
       "      <th>sepalWidth</th>\n",
       "      <th>species</th>\n",
       "    </tr>\n",
       "  </thead>\n",
       "  <tbody>\n",
       "    <tr>\n",
       "      <th>0</th>\n",
       "      <td>1.4</td>\n",
       "      <td>0.2</td>\n",
       "      <td>5.1</td>\n",
       "      <td>3.5</td>\n",
       "      <td>setosa</td>\n",
       "    </tr>\n",
       "    <tr>\n",
       "      <th>1</th>\n",
       "      <td>1.4</td>\n",
       "      <td>0.2</td>\n",
       "      <td>4.9</td>\n",
       "      <td>3.0</td>\n",
       "      <td>setosa</td>\n",
       "    </tr>\n",
       "    <tr>\n",
       "      <th>2</th>\n",
       "      <td>1.3</td>\n",
       "      <td>0.2</td>\n",
       "      <td>4.7</td>\n",
       "      <td>3.2</td>\n",
       "      <td>setosa</td>\n",
       "    </tr>\n",
       "    <tr>\n",
       "      <th>3</th>\n",
       "      <td>1.5</td>\n",
       "      <td>0.2</td>\n",
       "      <td>4.6</td>\n",
       "      <td>3.1</td>\n",
       "      <td>setosa</td>\n",
       "    </tr>\n",
       "    <tr>\n",
       "      <th>4</th>\n",
       "      <td>1.4</td>\n",
       "      <td>0.2</td>\n",
       "      <td>5.0</td>\n",
       "      <td>3.6</td>\n",
       "      <td>setosa</td>\n",
       "    </tr>\n",
       "  </tbody>\n",
       "</table>\n",
       "</div>"
      ],
      "text/plain": [
       "   petalLength  petalWidth  sepalLength  sepalWidth species\n",
       "0          1.4         0.2          5.1         3.5  setosa\n",
       "1          1.4         0.2          4.9         3.0  setosa\n",
       "2          1.3         0.2          4.7         3.2  setosa\n",
       "3          1.5         0.2          4.6         3.1  setosa\n",
       "4          1.4         0.2          5.0         3.6  setosa"
      ]
     },
     "execution_count": 13,
     "metadata": {},
     "output_type": "execute_result"
    }
   ],
   "source": [
    "df.head()"
   ]
  },
  {
   "cell_type": "code",
   "execution_count": 17,
   "metadata": {},
   "outputs": [
    {
     "data": {
      "text/plain": [
       "<pymongo.results.DeleteResult at 0xbddffba0c8>"
      ]
     },
     "execution_count": 17,
     "metadata": {},
     "output_type": "execute_result"
    }
   ],
   "source": [
    "information.delete_one({'firstName':'Joe'})"
   ]
  },
  {
   "cell_type": "code",
   "execution_count": 18,
   "metadata": {},
   "outputs": [
    {
     "data": {
      "text/plain": [
       "{'_id': ObjectId('5f7d511ba4e70b7d748f12af'),\n",
       " 'age': 42,\n",
       " 'department': 'EE',\n",
       " 'firstName': 'Joe',\n",
       " 'lastName': 'Tribiani',\n",
       " 'qualification': 'BE'}"
      ]
     },
     "execution_count": 18,
     "metadata": {},
     "output_type": "execute_result"
    }
   ],
   "source": [
    "information.find_one({'firstName':'Joe'})"
   ]
  },
  {
   "cell_type": "code",
   "execution_count": 19,
   "metadata": {},
   "outputs": [
    {
     "data": {
      "text/plain": [
       "<pymongo.cursor.Cursor at 0xbddffcea20>"
      ]
     },
     "execution_count": 19,
     "metadata": {},
     "output_type": "execute_result"
    }
   ],
   "source": [
    "information.find({'age':42})"
   ]
  },
  {
   "cell_type": "code",
   "execution_count": 22,
   "metadata": {},
   "outputs": [
    {
     "data": {
      "text/plain": [
       "{'_id': ObjectId('5f7d511ba4e70b7d748f12b0'),\n",
       " 'age': 42,\n",
       " 'department': 'ME',\n",
       " 'firstName': 'Marshall',\n",
       " 'lastName': 'Erikson',\n",
       " 'qualification': 'BE'}"
      ]
     },
     "execution_count": 22,
     "metadata": {},
     "output_type": "execute_result"
    }
   ],
   "source": [
    "information.find_one({'age':42,'firstName':'Marshall'})"
   ]
  },
  {
   "cell_type": "code",
   "execution_count": 23,
   "metadata": {},
   "outputs": [
    {
     "data": {
      "text/plain": [
       "{'_id': ObjectId('5f7d4d32a4e70b7d748f12ac'),\n",
       " 'age': 40,\n",
       " 'department': 'CS',\n",
       " 'firstName': 'Chris',\n",
       " 'lastName': 'Evans',\n",
       " 'qualification': 'BE'}"
      ]
     },
     "execution_count": 23,
     "metadata": {},
     "output_type": "execute_result"
    }
   ],
   "source": [
    "information.find_one()"
   ]
  },
  {
   "cell_type": "code",
   "execution_count": 28,
   "metadata": {},
   "outputs": [
    {
     "name": "stdout",
     "output_type": "stream",
     "text": [
      "{'_id': ObjectId('5f7d4d32a4e70b7d748f12ac'), 'department': 'CS', 'qualification': 'BE', 'firstName': 'Chris', 'lastName': 'Evans', 'age': 40}\n",
      "{'_id': ObjectId('5f7d511ba4e70b7d748f12af'), 'department': 'EE', 'qualification': 'BE', 'firstName': 'Joe', 'lastName': 'Tribiani', 'age': 42}\n",
      "{'_id': ObjectId('5f7d511ba4e70b7d748f12b0'), 'department': 'ME', 'qualification': 'BE', 'firstName': 'Marshall', 'lastName': 'Erikson', 'age': 42}\n"
     ]
    }
   ],
   "source": [
    "for record in information.find({}):\n",
    "    print(record)"
   ]
  },
  {
   "cell_type": "code",
   "execution_count": 29,
   "metadata": {},
   "outputs": [
    {
     "name": "stdout",
     "output_type": "stream",
     "text": [
      "{'_id': ObjectId('5f7d511ba4e70b7d748f12af'), 'department': 'EE', 'qualification': 'BE', 'firstName': 'Joe', 'lastName': 'Tribiani', 'age': 42}\n",
      "{'_id': ObjectId('5f7d511ba4e70b7d748f12b0'), 'department': 'ME', 'qualification': 'BE', 'firstName': 'Marshall', 'lastName': 'Erikson', 'age': 42}\n"
     ]
    }
   ],
   "source": [
    "for record in information.find({'age':42}):\n",
    "    print(record)"
   ]
  },
  {
   "cell_type": "code",
   "execution_count": 30,
   "metadata": {},
   "outputs": [
    {
     "data": {
      "text/plain": [
       "{'_id': ObjectId('5f7d511ba4e70b7d748f12af'),\n",
       " 'age': 42,\n",
       " 'department': 'EE',\n",
       " 'firstName': 'Joe',\n",
       " 'lastName': 'Tribiani',\n",
       " 'qualification': 'BE'}"
      ]
     },
     "execution_count": 30,
     "metadata": {},
     "output_type": "execute_result"
    }
   ],
   "source": [
    "information.find_one({'age':42})"
   ]
  },
  {
   "cell_type": "code",
   "execution_count": 31,
   "metadata": {
    "collapsed": true
   },
   "outputs": [],
   "source": [
    "#query documents using query operators($in,$lt,$gt)"
   ]
  },
  {
   "cell_type": "code",
   "execution_count": 33,
   "metadata": {},
   "outputs": [
    {
     "name": "stdout",
     "output_type": "stream",
     "text": [
      "{'_id': ObjectId('5f7d4d32a4e70b7d748f12ac'), 'department': 'CS', 'qualification': 'BE', 'firstName': 'Chris', 'lastName': 'Evans', 'age': 40}\n",
      "{'_id': ObjectId('5f7d511ba4e70b7d748f12b0'), 'department': 'ME', 'qualification': 'BE', 'firstName': 'Marshall', 'lastName': 'Erikson', 'age': 42}\n"
     ]
    }
   ],
   "source": [
    "for record in information.find({'department':{'$in':['CS','ME']}}):\n",
    "    print(record)"
   ]
  },
  {
   "cell_type": "code",
   "execution_count": 42,
   "metadata": {},
   "outputs": [
    {
     "name": "stdout",
     "output_type": "stream",
     "text": [
      "{'_id': ObjectId('5f7d4d32a4e70b7d748f12ac'), 'department': 'CS', 'qualification': 'BE', 'firstName': 'Chris', 'lastName': 'Evans', 'age': 40}\n"
     ]
    }
   ],
   "source": [
    "for record in information.find({'qualification':'BE','age':{'$lt':42}}):\n",
    "    print(record)"
   ]
  },
  {
   "cell_type": "code",
   "execution_count": 44,
   "metadata": {},
   "outputs": [
    {
     "name": "stdout",
     "output_type": "stream",
     "text": [
      "{'_id': ObjectId('5f7d511ba4e70b7d748f12af'), 'department': 'EE', 'qualification': 'BE', 'firstName': 'Joe', 'lastName': 'Tribiani', 'age': 42}\n",
      "{'_id': ObjectId('5f7d511ba4e70b7d748f12b0'), 'department': 'ME', 'qualification': 'BE', 'firstName': 'Marshall', 'lastName': 'Erikson', 'age': 42}\n"
     ]
    }
   ],
   "source": [
    "for record in information.find({'age':{'$gt':40}}):\n",
    "    print(record)"
   ]
  },
  {
   "cell_type": "code",
   "execution_count": 47,
   "metadata": {},
   "outputs": [
    {
     "name": "stdout",
     "output_type": "stream",
     "text": [
      "{'_id': ObjectId('5f7d4d32a4e70b7d748f12ac'), 'department': 'CS', 'qualification': 'BE', 'firstName': 'Chris', 'lastName': 'Evans', 'age': 40}\n",
      "{'_id': ObjectId('5f7d511ba4e70b7d748f12af'), 'department': 'EE', 'qualification': 'BE', 'firstName': 'Joe', 'lastName': 'Tribiani', 'age': 42}\n",
      "{'_id': ObjectId('5f7d511ba4e70b7d748f12b0'), 'department': 'ME', 'qualification': 'BE', 'firstName': 'Marshall', 'lastName': 'Erikson', 'age': 42}\n"
     ]
    }
   ],
   "source": [
    "for record in information.find({'$or':[{'firstName':'Joe'},{'qualification':'BE'}]}):\n",
    "    print(record)"
   ]
  },
  {
   "cell_type": "code",
   "execution_count": 48,
   "metadata": {
    "collapsed": true
   },
   "outputs": [],
   "source": [
    "inventory = mydb.inventory"
   ]
  },
  {
   "cell_type": "code",
   "execution_count": 49,
   "metadata": {},
   "outputs": [
    {
     "data": {
      "text/plain": [
       "<pymongo.results.InsertManyResult at 0xbddffcfec8>"
      ]
     },
     "execution_count": 49,
     "metadata": {},
     "output_type": "execute_result"
    }
   ],
   "source": [
    "inventory.insert_many([\n",
    "  {\"sepalLength\": 5.1, \"sepalWidth\": 3.5, \"petalLength\": 1.4, \"petalWidth\": 0.2, \"species\": \"setosa\"},\n",
    "  {\"sepalLength\": 4.9, \"sepalWidth\": 3.0, \"petalLength\": 1.4, \"petalWidth\": 0.2, \"species\": \"setosa\"},\n",
    "  {\"sepalLength\": 4.7, \"sepalWidth\": 3.2, \"petalLength\": 1.3, \"petalWidth\": 0.2, \"species\": \"setosa\"},\n",
    "  {\"sepalLength\": 4.6, \"sepalWidth\": 3.1, \"petalLength\": 1.5, \"petalWidth\": 0.2, \"species\": \"setosa\"},\n",
    "  {\"sepalLength\": 5.0, \"sepalWidth\": 3.6, \"petalLength\": 1.4, \"petalWidth\": 0.2, \"species\": \"setosa\"},\n",
    "  {\"sepalLength\": 5.4, \"sepalWidth\": 3.9, \"petalLength\": 1.7, \"petalWidth\": 0.4, \"species\": \"setosa\"},\n",
    "  {\"sepalLength\": 4.6, \"sepalWidth\": 3.4, \"petalLength\": 1.4, \"petalWidth\": 0.3, \"species\": \"setosa\"},\n",
    "  {\"sepalLength\": 5.0, \"sepalWidth\": 3.4, \"petalLength\": 1.5, \"petalWidth\": 0.2, \"species\": \"setosa\"},\n",
    "  {\"sepalLength\": 4.4, \"sepalWidth\": 2.9, \"petalLength\": 1.4, \"petalWidth\": 0.2, \"species\": \"setosa\"}])"
   ]
  },
  {
   "cell_type": "code",
   "execution_count": 50,
   "metadata": {},
   "outputs": [
    {
     "name": "stdout",
     "output_type": "stream",
     "text": [
      "{'_id': ObjectId('5f7d5728a4e70b7d748f12b1'), 'petalWidth': 0.2, 'petalLength': 1.4, 'species': 'setosa', 'sepalWidth': 3.5, 'sepalLength': 5.1}\n",
      "{'_id': ObjectId('5f7d5728a4e70b7d748f12b2'), 'petalWidth': 0.2, 'petalLength': 1.4, 'species': 'setosa', 'sepalWidth': 3.0, 'sepalLength': 4.9}\n",
      "{'_id': ObjectId('5f7d5728a4e70b7d748f12b3'), 'petalWidth': 0.2, 'petalLength': 1.3, 'species': 'setosa', 'sepalWidth': 3.2, 'sepalLength': 4.7}\n",
      "{'_id': ObjectId('5f7d5728a4e70b7d748f12b4'), 'petalWidth': 0.2, 'petalLength': 1.5, 'species': 'setosa', 'sepalWidth': 3.1, 'sepalLength': 4.6}\n",
      "{'_id': ObjectId('5f7d5728a4e70b7d748f12b5'), 'petalWidth': 0.2, 'petalLength': 1.4, 'species': 'setosa', 'sepalWidth': 3.6, 'sepalLength': 5.0}\n",
      "{'_id': ObjectId('5f7d5728a4e70b7d748f12b6'), 'petalWidth': 0.4, 'petalLength': 1.7, 'species': 'setosa', 'sepalWidth': 3.9, 'sepalLength': 5.4}\n",
      "{'_id': ObjectId('5f7d5728a4e70b7d748f12b7'), 'petalWidth': 0.3, 'petalLength': 1.4, 'species': 'setosa', 'sepalWidth': 3.4, 'sepalLength': 4.6}\n",
      "{'_id': ObjectId('5f7d5728a4e70b7d748f12b8'), 'petalWidth': 0.2, 'petalLength': 1.5, 'species': 'setosa', 'sepalWidth': 3.4, 'sepalLength': 5.0}\n",
      "{'_id': ObjectId('5f7d5728a4e70b7d748f12b9'), 'petalWidth': 0.2, 'petalLength': 1.4, 'species': 'setosa', 'sepalWidth': 2.9, 'sepalLength': 4.4}\n"
     ]
    }
   ],
   "source": [
    "for record in inventory.find():\n",
    "    print(record)"
   ]
  },
  {
   "cell_type": "code",
   "execution_count": 51,
   "metadata": {},
   "outputs": [
    {
     "data": {
      "text/plain": [
       "<pymongo.results.DeleteResult at 0xbde0010b48>"
      ]
     },
     "execution_count": 51,
     "metadata": {},
     "output_type": "execute_result"
    }
   ],
   "source": [
    "inventory.delete_many({})"
   ]
  },
  {
   "cell_type": "code",
   "execution_count": 52,
   "metadata": {},
   "outputs": [
    {
     "data": {
      "text/plain": [
       "<pymongo.results.InsertManyResult at 0xbde000ef08>"
      ]
     },
     "execution_count": 52,
     "metadata": {},
     "output_type": "execute_result"
    }
   ],
   "source": [
    "inventory.insert_many(\n",
    "[\n",
    "    {'item':'journal','qty':25,'size':{'h':14,'w':21,'uom':'cm'}},\n",
    "    {'item':'notebook','qty':50,'size':{'h':8.5,'w':11,'uom':'in'}},\n",
    "    {'item':'paper','qty':100,'size':{'h':8.5,'w':11,'uom':'in'}},\n",
    "    {'item':'planner','qty':75,'size':{'h':22.85,'w':30,'uom':'cm'}},\n",
    "    {'item':'postcard','qty':45,'size':{'h':10,'w':15.25,'uom':'cm'}}\n",
    "    ]\n",
    ")"
   ]
  },
  {
   "cell_type": "code",
   "execution_count": 53,
   "metadata": {},
   "outputs": [
    {
     "name": "stdout",
     "output_type": "stream",
     "text": [
      "{'_id': ObjectId('5f7d5877a4e70b7d748f12ba'), 'size': {'w': 21, 'h': 14, 'uom': 'cm'}, 'qty': 25, 'item': 'journal'}\n",
      "{'_id': ObjectId('5f7d5877a4e70b7d748f12bb'), 'size': {'w': 11, 'h': 8.5, 'uom': 'in'}, 'qty': 50, 'item': 'notebook'}\n",
      "{'_id': ObjectId('5f7d5877a4e70b7d748f12bc'), 'size': {'w': 11, 'h': 8.5, 'uom': 'in'}, 'qty': 100, 'item': 'paper'}\n",
      "{'_id': ObjectId('5f7d5877a4e70b7d748f12bd'), 'size': {'w': 30, 'h': 22.85, 'uom': 'cm'}, 'qty': 75, 'item': 'planner'}\n",
      "{'_id': ObjectId('5f7d5877a4e70b7d748f12be'), 'size': {'w': 15.25, 'h': 10, 'uom': 'cm'}, 'qty': 45, 'item': 'postcard'}\n"
     ]
    }
   ],
   "source": [
    "for record in inventory.find():\n",
    "    print(record)"
   ]
  },
  {
   "cell_type": "code",
   "execution_count": 54,
   "metadata": {},
   "outputs": [
    {
     "name": "stdout",
     "output_type": "stream",
     "text": [
      "{'_id': ObjectId('5f7d5877a4e70b7d748f12ba'), 'size': {'w': 21, 'h': 14, 'uom': 'cm'}, 'qty': 25, 'item': 'journal'}\n"
     ]
    }
   ],
   "source": [
    "for record in inventory.find({'size':{'h':14,'w':21,'uom':'cm'}}):\n",
    "    print(record)"
   ]
  },
  {
   "cell_type": "code",
   "execution_count": 55,
   "metadata": {},
   "outputs": [
    {
     "data": {
      "text/plain": [
       "<pymongo.results.UpdateResult at 0xbddffba088>"
      ]
     },
     "execution_count": 55,
     "metadata": {},
     "output_type": "execute_result"
    }
   ],
   "source": [
    "inventory.update_one(\n",
    "{'item':'paper'},\n",
    "{'$set':{'size.uom':'m','qty':30}}\n",
    ")"
   ]
  },
  {
   "cell_type": "code",
   "execution_count": 56,
   "metadata": {},
   "outputs": [
    {
     "data": {
      "text/plain": [
       "{'_id': ObjectId('5f7d5877a4e70b7d748f12bc'),\n",
       " 'item': 'paper',\n",
       " 'qty': 30,\n",
       " 'size': {'h': 8.5, 'uom': 'm', 'w': 11}}"
      ]
     },
     "execution_count": 56,
     "metadata": {},
     "output_type": "execute_result"
    }
   ],
   "source": [
    "inventory.find_one({'item':'paper'})"
   ]
  },
  {
   "cell_type": "code",
   "execution_count": 57,
   "metadata": {},
   "outputs": [
    {
     "data": {
      "text/plain": [
       "<pymongo.results.UpdateResult at 0xbddffca288>"
      ]
     },
     "execution_count": 57,
     "metadata": {},
     "output_type": "execute_result"
    }
   ],
   "source": [
    "inventory.update_one(\n",
    "{'item':'postcard'},\n",
    "{'$set':{'size.uom':'m','qty':30},\n",
    "'$currentDate':{'lastmodified':True}}\n",
    ")"
   ]
  },
  {
   "cell_type": "code",
   "execution_count": 58,
   "metadata": {},
   "outputs": [
    {
     "data": {
      "text/plain": [
       "{'_id': ObjectId('5f7d5877a4e70b7d748f12be'),\n",
       " 'item': 'postcard',\n",
       " 'lastmodified': datetime.datetime(2020, 10, 7, 6, 11, 40, 805000),\n",
       " 'qty': 30,\n",
       " 'size': {'h': 10, 'uom': 'm', 'w': 15.25}}"
      ]
     },
     "execution_count": 58,
     "metadata": {},
     "output_type": "execute_result"
    }
   ],
   "source": [
    "inventory.find_one({'item':'postcard'})"
   ]
  },
  {
   "cell_type": "code",
   "execution_count": 61,
   "metadata": {},
   "outputs": [
    {
     "data": {
      "text/plain": [
       "<pymongo.results.UpdateResult at 0xbddffd1488>"
      ]
     },
     "execution_count": 61,
     "metadata": {},
     "output_type": "execute_result"
    }
   ],
   "source": [
    "inventory.update_many(\n",
    "{'size.uom':'cm'},\n",
    "{'$set':{'size.uom':'in'},\n",
    "'$currentDate':{'lastModified':True}}\n",
    ")"
   ]
  },
  {
   "cell_type": "code",
   "execution_count": 62,
   "metadata": {},
   "outputs": [
    {
     "name": "stdout",
     "output_type": "stream",
     "text": [
      "{'_id': ObjectId('5f7d5877a4e70b7d748f12ba'), 'size': {'w': 21, 'h': 14, 'uom': 'in'}, 'qty': 25, 'lastModified': datetime.datetime(2020, 10, 7, 6, 17, 9, 639000), 'item': 'journal'}\n",
      "{'_id': ObjectId('5f7d5877a4e70b7d748f12bb'), 'size': {'w': 11, 'h': 8.5, 'uom': 'in'}, 'qty': 50, 'item': 'notebook'}\n",
      "{'_id': ObjectId('5f7d5877a4e70b7d748f12bc'), 'size': {'w': 11, 'h': 8.5, 'uom': 'm'}, 'qty': 30, 'item': 'paper'}\n",
      "{'_id': ObjectId('5f7d5877a4e70b7d748f12bd'), 'size': {'w': 30, 'h': 22.85, 'uom': 'in'}, 'qty': 75, 'lastModified': datetime.datetime(2020, 10, 7, 6, 17, 9, 639000), 'item': 'planner'}\n",
      "{'_id': ObjectId('5f7d5877a4e70b7d748f12be'), 'size': {'w': 15.25, 'h': 10, 'uom': 'm'}, 'qty': 30, 'lastmodified': datetime.datetime(2020, 10, 7, 6, 11, 40, 805000), 'item': 'postcard'}\n"
     ]
    }
   ],
   "source": [
    "for record in inventory.find():\n",
    "    print(record)"
   ]
  },
  {
   "cell_type": "code",
   "execution_count": 63,
   "metadata": {},
   "outputs": [
    {
     "data": {
      "text/plain": [
       "<pymongo.results.UpdateResult at 0xbddfff8288>"
      ]
     },
     "execution_count": 63,
     "metadata": {},
     "output_type": "execute_result"
    }
   ],
   "source": [
    "inventory.replace_one(\n",
    "{'item':'paper'},\n",
    "    {'item':'paper',\n",
    "    'instock':[{'warehouse':'A','qty':80},\n",
    "              {'warehouse':'B','qty':50}]}\n",
    ")"
   ]
  },
  {
   "cell_type": "code",
   "execution_count": 64,
   "metadata": {
    "collapsed": true
   },
   "outputs": [],
   "source": [
    "employee = mydb.employeeInformation"
   ]
  },
  {
   "cell_type": "code",
   "execution_count": 65,
   "metadata": {
    "collapsed": true
   },
   "outputs": [],
   "source": [
    "data = [ \n",
    "    {\"user\":\"Krish\", \"subject\":\"Database\", \"score\":80}, \n",
    "    {\"user\":\"Amit\",  \"subject\":\"JavaScript\", \"score\":90}, \n",
    "    {\"user\":\"Amit\",  \"title\":\"Database\", \"score\":85}, \n",
    "    {\"user\":\"Krish\",  \"title\":\"JavaScript\", \"score\":75}, \n",
    "    {\"user\":\"Amit\",  \"title\":\"Data Science\", \"score\":60},\n",
    "    {\"user\":\"Krish\",  \"title\":\"Data Science\", \"score\":95}] "
   ]
  },
  {
   "cell_type": "code",
   "execution_count": 66,
   "metadata": {},
   "outputs": [
    {
     "data": {
      "text/plain": [
       "<pymongo.results.InsertManyResult at 0xbddfff8988>"
      ]
     },
     "execution_count": 66,
     "metadata": {},
     "output_type": "execute_result"
    }
   ],
   "source": [
    "employee.insert_many(data)"
   ]
  },
  {
   "cell_type": "code",
   "execution_count": 67,
   "metadata": {},
   "outputs": [
    {
     "name": "stdout",
     "output_type": "stream",
     "text": [
      "{'_id': ObjectId('5f7d6567a4e70b7d748f12bf'), 'user': 'Krish', 'subject': 'Database', 'score': 80}\n",
      "{'_id': ObjectId('5f7d6567a4e70b7d748f12c0'), 'user': 'Amit', 'subject': 'JavaScript', 'score': 90}\n",
      "{'_id': ObjectId('5f7d6567a4e70b7d748f12c1'), 'user': 'Amit', 'score': 85, 'title': 'Database'}\n",
      "{'_id': ObjectId('5f7d6567a4e70b7d748f12c2'), 'user': 'Krish', 'score': 75, 'title': 'JavaScript'}\n",
      "{'_id': ObjectId('5f7d6567a4e70b7d748f12c3'), 'user': 'Amit', 'score': 60, 'title': 'Data Science'}\n",
      "{'_id': ObjectId('5f7d6567a4e70b7d748f12c4'), 'user': 'Krish', 'score': 95, 'title': 'Data Science'}\n"
     ]
    }
   ],
   "source": [
    "for record in employee.find():\n",
    "    print(record)"
   ]
  },
  {
   "cell_type": "code",
   "execution_count": 68,
   "metadata": {
    "collapsed": true
   },
   "outputs": [],
   "source": [
    "#find amit and krish total subjects"
   ]
  },
  {
   "cell_type": "code",
   "execution_count": 76,
   "metadata": {},
   "outputs": [
    {
     "name": "stdout",
     "output_type": "stream",
     "text": [
      "{'_id': 'Amit', 'Total Records': 3}\n",
      "{'_id': 'Krish', 'Total Records': 3}\n"
     ]
    }
   ],
   "source": [
    "agg_result = employee.aggregate(\n",
    "[{\n",
    "            \"$group\":\n",
    "            {\n",
    "                \"_id\" : \"$user\",\n",
    "                \"Total Records\" : {\"$sum\":1}\n",
    "            }}\n",
    "    ])\n",
    "for i in agg_result:\n",
    "    print(i)"
   ]
  },
  {
   "cell_type": "code",
   "execution_count": 82,
   "metadata": {},
   "outputs": [
    {
     "name": "stdout",
     "output_type": "stream",
     "text": [
      "{'_id': 'Krish', 'total score': 250}\n",
      "{'_id': 'Amit', 'total score': 235}\n"
     ]
    }
   ],
   "source": [
    "agg_result = employee.aggregate(\n",
    "[\n",
    "        {\n",
    "            '$group':\n",
    "            {\n",
    "                '_id':'$user',\n",
    "                'total score':{'$sum':'$score'}\n",
    "            }\n",
    "        }\n",
    "    ]\n",
    ")\n",
    "for i in agg_result:\n",
    "    print(i)"
   ]
  },
  {
   "cell_type": "code",
   "execution_count": 83,
   "metadata": {},
   "outputs": [
    {
     "name": "stdout",
     "output_type": "stream",
     "text": [
      "{'_id': 'Krish', 'averageScore': 83.33333333333333}\n",
      "{'_id': 'Amit', 'averageScore': 78.33333333333333}\n"
     ]
    }
   ],
   "source": [
    "agg_result = employee.aggregate(\n",
    "[\n",
    "        {\n",
    "            '$group':\n",
    "            {\n",
    "                '_id':'$user',\n",
    "                'averageScore':{'$avg':'$score'}\n",
    "            }\n",
    "        }\n",
    "    ])\n",
    "for i in agg_result:\n",
    "    print(i)"
   ]
  },
  {
   "cell_type": "code",
   "execution_count": 84,
   "metadata": {
    "collapsed": true
   },
   "outputs": [],
   "source": [
    "import datetime"
   ]
  },
  {
   "cell_type": "code",
   "execution_count": 85,
   "metadata": {
    "collapsed": true
   },
   "outputs": [],
   "source": [
    "data=[{ \"_id\" : 1, \"item\" : \"abc\", \"price\" : 10, \"quantity\" : 2, \"date\" : datetime.datetime.utcnow()},\n",
    "{ \"_id\" : 2, \"item\" : \"jkl\", \"price\" : 20, \"quantity\" : 1, \"date\" : datetime.datetime.utcnow() },\n",
    "{ \"_id\" : 3, \"item\" : \"xyz\", \"price\" : 5, \"quantity\" : 5, \"date\" : datetime.datetime.utcnow() },\n",
    "{ \"_id\" : 4, \"item\" : \"abc\", \"price\" : 10, \"quantity\" : 10, \"date\" : datetime.datetime.utcnow() },\n",
    "{ \"_id\" : 5, \"item\" : \"xyz\", \"price\" : 5, \"quantity\" : 10, \"date\" :datetime.datetime.utcnow() }]"
   ]
  },
  {
   "cell_type": "code",
   "execution_count": 86,
   "metadata": {
    "collapsed": true
   },
   "outputs": [],
   "source": [
    "mycollection = mydb.stores"
   ]
  },
  {
   "cell_type": "code",
   "execution_count": 87,
   "metadata": {},
   "outputs": [
    {
     "data": {
      "text/plain": [
       "<pymongo.results.InsertManyResult at 0xbde00130c8>"
      ]
     },
     "execution_count": 87,
     "metadata": {},
     "output_type": "execute_result"
    }
   ],
   "source": [
    "mycollection.insert_many(data)"
   ]
  },
  {
   "cell_type": "code",
   "execution_count": 89,
   "metadata": {},
   "outputs": [
    {
     "name": "stdout",
     "output_type": "stream",
     "text": [
      "{'_id': 1, 'item': 'abc', 'price': 10, 'quantity': 2, 'date': datetime.datetime(2020, 10, 7, 7, 16, 43, 468000)}\n",
      "{'_id': 2, 'item': 'jkl', 'price': 20, 'quantity': 1, 'date': datetime.datetime(2020, 10, 7, 7, 16, 43, 468000)}\n",
      "{'_id': 3, 'item': 'xyz', 'price': 5, 'quantity': 5, 'date': datetime.datetime(2020, 10, 7, 7, 16, 43, 468000)}\n",
      "{'_id': 4, 'item': 'abc', 'price': 10, 'quantity': 10, 'date': datetime.datetime(2020, 10, 7, 7, 16, 43, 468000)}\n",
      "{'_id': 5, 'item': 'xyz', 'price': 5, 'quantity': 10, 'date': datetime.datetime(2020, 10, 7, 7, 16, 43, 468000)}\n"
     ]
    }
   ],
   "source": [
    "for record in mycollection.find():\n",
    "    print(record)"
   ]
  },
  {
   "cell_type": "code",
   "execution_count": 91,
   "metadata": {},
   "outputs": [
    {
     "name": "stdout",
     "output_type": "stream",
     "text": [
      "{'_id': 'abc', 'avgQuantity': 6.0, 'avgAmount': 60.0}\n",
      "{'_id': 'xyz', 'avgQuantity': 7.5, 'avgAmount': 37.5}\n",
      "{'_id': 'jkl', 'avgQuantity': 1.0, 'avgAmount': 20.0}\n"
     ]
    }
   ],
   "source": [
    "# calculating the average quantity and average price\n",
    "agg_result = mycollection.aggregate(\n",
    "[\n",
    "        {\n",
    "            '$group':\n",
    "            {'_id':'$item',\n",
    "            'avgAmount':{'$avg':{'$multiply':['$price','$quantity']}},\n",
    "             'avgQuantity':{'$avg':'$quantity'}\n",
    "            }\n",
    "        }\n",
    "    ]\n",
    ")\n",
    "for i in agg_result:\n",
    "    print(i)"
   ]
  },
  {
   "cell_type": "code",
   "execution_count": null,
   "metadata": {
    "collapsed": true
   },
   "outputs": [],
   "source": []
  },
  {
   "cell_type": "code",
   "execution_count": 94,
   "metadata": {},
   "outputs": [
    {
     "data": {
      "text/plain": [
       "<pymongo.results.InsertManyResult at 0xbde0069408>"
      ]
     },
     "execution_count": 94,
     "metadata": {},
     "output_type": "execute_result"
    }
   ],
   "source": [
    "data = [{\n",
    "  \"_id\" : 1,\n",
    "  \"title\": \"abc123\",\n",
    "  \"isbn\": \"0001122223334\",\n",
    "  \"author\": { \"last\": \"zzz\", \"first\": \"aaa\" },\n",
    "  \"copies\": 5\n",
    "},\n",
    "{\n",
    "  \"_id\" : 2,\n",
    "  \"title\": \"Baked Goods\",\n",
    "  \"isbn\": \"9999999999999\",\n",
    "  \"author\": { \"last\": \"xyz\", \"first\": \"abc\", \"middle\": \"\" },\n",
    "  \"copies\": 2\n",
    "}\n",
    "]\n",
    "\n",
    "books = mydb.books\n",
    "books.insert_many(data)"
   ]
  },
  {
   "cell_type": "code",
   "execution_count": 95,
   "metadata": {},
   "outputs": [
    {
     "name": "stdout",
     "output_type": "stream",
     "text": [
      "{'_id': 1, 'author': {'last': 'zzz', 'first': 'aaa'}, 'isbn': '0001122223334', 'copies': 5, 'title': 'abc123'}\n",
      "{'_id': 2, 'author': {'last': 'xyz', 'first': 'abc', 'middle': ''}, 'isbn': '9999999999999', 'copies': 2, 'title': 'Baked Goods'}\n"
     ]
    }
   ],
   "source": [
    "for i in books.find():\n",
    "    print(i)"
   ]
  },
  {
   "cell_type": "code",
   "execution_count": 97,
   "metadata": {},
   "outputs": [
    {
     "name": "stdout",
     "output_type": "stream",
     "text": [
      "{'_id': 1, 'isbn': '0001122223334', 'title': 'abc123'}\n",
      "{'_id': 2, 'isbn': '9999999999999', 'title': 'Baked Goods'}\n"
     ]
    }
   ],
   "source": [
    "#  $project\n",
    "for row in books.aggregate([{'$project':{'title':1,'isbn':1}}]):\n",
    "    print(row)"
   ]
  },
  {
   "cell_type": "code",
   "execution_count": null,
   "metadata": {
    "collapsed": true
   },
   "outputs": [],
   "source": []
  }
 ],
 "metadata": {
  "anaconda-cloud": {},
  "kernelspec": {
   "display_name": "Python 3",
   "language": "python",
   "name": "python3"
  },
  "language_info": {
   "codemirror_mode": {
    "name": "ipython",
    "version": 3
   },
   "file_extension": ".py",
   "mimetype": "text/x-python",
   "name": "python",
   "nbconvert_exporter": "python",
   "pygments_lexer": "ipython3",
   "version": "3.8.3"
  }
 },
 "nbformat": 4,
 "nbformat_minor": 1
}
